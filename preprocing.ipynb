{
 "cells": [
  {
   "cell_type": "code",
   "execution_count": 1,
   "metadata": {},
   "outputs": [
    {
     "name": "stdout",
     "output_type": "stream",
     "text": [
      "{'with mask': 0, 'without mask': 1}\n",
      "['with mask', 'without mask']\n",
      "[0, 1]\n"
     ]
    }
   ],
   "source": [
    "import cv2,os\n",
    "\n",
    "data_path='dataset'\n",
    "categories=os.listdir(data_path)\n",
    "labels=[i for i in range(len(categories))]\n",
    "\n",
    "label_dict=dict(zip(categories,labels)) #empty dictionary\n",
    "\n",
    "print(label_dict)\n",
    "print(categories)\n",
    "print(labels)"
   ]
  },
  {
   "cell_type": "code",
   "execution_count": 2,
   "metadata": {},
   "outputs": [],
   "source": [
    "img_size=100\n",
    "data=[]\n",
    "target=[]\n",
    "\n",
    "\n",
    "for category in categories:\n",
    "    folder_path=os.path.join(data_path,category)\n",
    "    img_names=os.listdir(folder_path)\n",
    "        \n",
    "    for img_name in img_names:\n",
    "        img_path=os.path.join(folder_path,img_name)\n",
    "        img=cv2.imread(img_path)\n",
    "\n",
    "        try:\n",
    "            gray=cv2.cvtColor(img,cv2.COLOR_BGR2GRAY)           \n",
    "            #Coverting the image into gray scale\n",
    "            resized=cv2.resize(gray,(img_size,img_size))\n",
    "            #resizing the gray scale into 50x50, since we need a fixed common size for all the images in the dataset\n",
    "            data.append(resized)\n",
    "            target.append(label_dict[category])\n",
    "            #appending the image and the label(categorized) into the list (dataset)\n",
    "\n",
    "        except Exception as e:\n",
    "            print('Exception:',e)\n",
    "            #if any exception rasied, the exception will be printed here. And pass to the next image"
   ]
  },
  {
   "cell_type": "code",
   "execution_count": 3,
   "metadata": {},
   "outputs": [
    {
     "name": "stderr",
     "output_type": "stream",
     "text": [
      "Using TensorFlow backend.\n"
     ]
    }
   ],
   "source": [
    "import numpy as np\n",
    "\n",
    "data=np.array(data)/255.0\n",
    "data=np.reshape(data,(data.shape[0],img_size,img_size,1))\n",
    "target=np.array(target)\n",
    "\n",
    "from keras.utils import np_utils\n",
    "\n",
    "new_target=np_utils.to_categorical(target)\n",
    "\n",
    "\n",
    "\n",
    "np.save('data',data)\n",
    "np.save('target',new_target)\n",
    "\n"
   ]
  },
  {
   "cell_type": "code",
   "execution_count": 4,
   "metadata": {},
   "outputs": [
    {
     "data": {
      "text/plain": [
       "array([0, 0, 0, ..., 1, 1, 1])"
      ]
     },
     "execution_count": 4,
     "metadata": {},
     "output_type": "execute_result"
    }
   ],
   "source": [
    "target"
   ]
  },
  {
   "cell_type": "code",
   "execution_count": 5,
   "metadata": {},
   "outputs": [
    {
     "data": {
      "text/plain": [
       "array([[1., 0.],\n",
       "       [1., 0.],\n",
       "       [1., 0.],\n",
       "       ...,\n",
       "       [0., 1.],\n",
       "       [0., 1.],\n",
       "       [0., 1.]], dtype=float32)"
      ]
     },
     "execution_count": 5,
     "metadata": {},
     "output_type": "execute_result"
    }
   ],
   "source": [
    "new_target"
   ]
  },
  {
   "cell_type": "code",
   "execution_count": 6,
   "metadata": {},
   "outputs": [],
   "source": [
    "import numpy as np\n",
    "\n",
    "data=np.load('data.npy')\n",
    "target=np.load('target.npy')"
   ]
  },
  {
   "cell_type": "code",
   "execution_count": 7,
   "metadata": {},
   "outputs": [],
   "source": [
    "from keras.models import Sequential\n",
    "from keras.layers import Dense,Activation,Flatten,Dropout\n",
    "from keras.layers import Conv2D,MaxPooling2D\n",
    "from keras.callbacks import ModelCheckpoint"
   ]
  },
  {
   "cell_type": "code",
   "execution_count": 8,
   "metadata": {},
   "outputs": [],
   "source": [
    "model=Sequential()"
   ]
  },
  {
   "cell_type": "code",
   "execution_count": 9,
   "metadata": {},
   "outputs": [],
   "source": [
    "model.add(Conv2D(200,(3,3),input_shape=data.shape[1:]))\n",
    "model.add(Activation('relu'))\n",
    "model.add(MaxPooling2D(pool_size=(2,2)))"
   ]
  },
  {
   "cell_type": "code",
   "execution_count": 10,
   "metadata": {},
   "outputs": [],
   "source": [
    "model.add(Conv2D(100,(3,3)))\n",
    "model.add(Activation('relu'))\n",
    "model.add(MaxPooling2D(pool_size=(2,2)))"
   ]
  },
  {
   "cell_type": "code",
   "execution_count": 11,
   "metadata": {},
   "outputs": [],
   "source": [
    "model.add(Flatten())\n",
    "model.add(Dropout(0.5))"
   ]
  },
  {
   "cell_type": "code",
   "execution_count": 12,
   "metadata": {},
   "outputs": [],
   "source": [
    "model.add(Dense(50,activation='relu'))\n",
    "#Dense layer of 64 neurons\n",
    "model.add(Dense(2,activation='softmax'))\n",
    "#The Final layer with two outputs for two categories\n",
    "\n",
    "model.compile(loss='categorical_crossentropy',optimizer='adam',metrics=['accuracy'])"
   ]
  },
  {
   "cell_type": "code",
   "execution_count": 13,
   "metadata": {},
   "outputs": [],
   "source": [
    "from sklearn.model_selection import train_test_split\n",
    "\n",
    "train_data,test_data,train_target,test_target=train_test_split(data,target,test_size=0.1)"
   ]
  },
  {
   "cell_type": "code",
   "execution_count": 14,
   "metadata": {},
   "outputs": [
    {
     "name": "stdout",
     "output_type": "stream",
     "text": [
      "Train on 990 samples, validate on 248 samples\n",
      "Epoch 1/20\n",
      "990/990 [==============================] - 52s 53ms/step - loss: 0.7774 - accuracy: 0.5323 - val_loss: 0.6439 - val_accuracy: 0.7016\n",
      "Epoch 2/20\n",
      "990/990 [==============================] - 50s 51ms/step - loss: 0.5664 - accuracy: 0.7212 - val_loss: 0.4452 - val_accuracy: 0.8427\n",
      "Epoch 3/20\n",
      "990/990 [==============================] - 53s 54ms/step - loss: 0.4494 - accuracy: 0.7828 - val_loss: 0.4652 - val_accuracy: 0.7581\n",
      "Epoch 4/20\n",
      "990/990 [==============================] - 54s 54ms/step - loss: 0.3610 - accuracy: 0.8414 - val_loss: 0.3131 - val_accuracy: 0.8831\n",
      "Epoch 5/20\n",
      "990/990 [==============================] - 52s 53ms/step - loss: 0.2785 - accuracy: 0.8909 - val_loss: 0.2465 - val_accuracy: 0.8992\n",
      "Epoch 6/20\n",
      "990/990 [==============================] - 53s 54ms/step - loss: 0.2181 - accuracy: 0.9182 - val_loss: 0.2121 - val_accuracy: 0.9315\n",
      "Epoch 7/20\n",
      "990/990 [==============================] - 53s 54ms/step - loss: 0.1692 - accuracy: 0.9354 - val_loss: 0.3017 - val_accuracy: 0.9113\n",
      "Epoch 8/20\n",
      "990/990 [==============================] - 52s 53ms/step - loss: 0.1740 - accuracy: 0.9394 - val_loss: 0.1715 - val_accuracy: 0.9355\n",
      "Epoch 9/20\n",
      "990/990 [==============================] - 54s 55ms/step - loss: 0.1400 - accuracy: 0.9465 - val_loss: 0.1640 - val_accuracy: 0.9435\n",
      "Epoch 10/20\n",
      "990/990 [==============================] - 54s 55ms/step - loss: 0.1173 - accuracy: 0.9616 - val_loss: 0.1492 - val_accuracy: 0.9516\n",
      "Epoch 11/20\n",
      "990/990 [==============================] - 53s 54ms/step - loss: 0.0911 - accuracy: 0.9707 - val_loss: 0.1439 - val_accuracy: 0.9435\n",
      "Epoch 12/20\n",
      "990/990 [==============================] - 54s 55ms/step - loss: 0.0777 - accuracy: 0.9758 - val_loss: 0.1189 - val_accuracy: 0.9637\n",
      "Epoch 13/20\n",
      "990/990 [==============================] - 54s 55ms/step - loss: 0.0663 - accuracy: 0.9778 - val_loss: 0.1546 - val_accuracy: 0.9476\n",
      "Epoch 14/20\n",
      "990/990 [==============================] - 54s 54ms/step - loss: 0.0556 - accuracy: 0.9828 - val_loss: 0.1123 - val_accuracy: 0.9637\n",
      "Epoch 15/20\n",
      "990/990 [==============================] - 54s 55ms/step - loss: 0.0615 - accuracy: 0.9798 - val_loss: 0.1656 - val_accuracy: 0.9637\n",
      "Epoch 16/20\n",
      "990/990 [==============================] - 54s 55ms/step - loss: 0.0590 - accuracy: 0.9778 - val_loss: 0.1274 - val_accuracy: 0.9677\n",
      "Epoch 17/20\n",
      "990/990 [==============================] - 54s 55ms/step - loss: 0.0575 - accuracy: 0.9778 - val_loss: 0.1440 - val_accuracy: 0.9435\n",
      "Epoch 18/20\n",
      "990/990 [==============================] - 54s 54ms/step - loss: 0.0437 - accuracy: 0.9838 - val_loss: 0.1315 - val_accuracy: 0.9677\n",
      "Epoch 19/20\n",
      "990/990 [==============================] - 54s 55ms/step - loss: 0.0432 - accuracy: 0.9848 - val_loss: 0.1589 - val_accuracy: 0.9637\n",
      "Epoch 20/20\n",
      "990/990 [==============================] - 53s 53ms/step - loss: 0.0275 - accuracy: 0.9909 - val_loss: 0.1468 - val_accuracy: 0.9677\n"
     ]
    }
   ],
   "source": [
    "checkpoint = ModelCheckpoint('model-{epoch:03d}.model',monitor='val_loss',verbose=0,save_best_only=True,mode='auto')\n",
    "history=model.fit(train_data,train_target,epochs=20,callbacks=[checkpoint],validation_split=0.2)"
   ]
  },
  {
   "cell_type": "code",
   "execution_count": null,
   "metadata": {},
   "outputs": [],
   "source": []
  }
 ],
 "metadata": {
  "kernelspec": {
   "display_name": "Python 3",
   "language": "python",
   "name": "python3"
  },
  "language_info": {
   "codemirror_mode": {
    "name": "ipython",
    "version": 3
   },
   "file_extension": ".py",
   "mimetype": "text/x-python",
   "name": "python",
   "nbconvert_exporter": "python",
   "pygments_lexer": "ipython3",
   "version": "3.7.6"
  }
 },
 "nbformat": 4,
 "nbformat_minor": 4
}
